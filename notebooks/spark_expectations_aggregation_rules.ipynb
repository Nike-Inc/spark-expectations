{
 "cells": [
  {
   "cell_type": "code",
   "execution_count": null,
   "id": "44d39da2-003e-48b3-b51d-7d12eb9b9f8d",
   "metadata": {},
   "outputs": [],
   "source": [
    "import ipywidgets as widgets\n",
    "from IPython.display import display\n",
    "\n",
    "import re\n",
    "import pandas as pd"
   ]
  },
  {
   "cell_type": "code",
   "execution_count": null,
   "id": "d8329a6c-6091-43e9-9c40-5ebb465849e4",
   "metadata": {},
   "outputs": [],
   "source": [
    "widget_user = widgets.Text(\n",
    "    value='testuser',\n",
    "    placeholder='Type something',\n",
    "    description='user: ',\n",
    "    disabled=False,\n",
    "    style={'description_width': '100px'}    \n",
    ")\n",
    "\n",
    "widget_git_org = widgets.Text(\n",
    "    value='Nike-Inc',\n",
    "    placeholder='Type something',\n",
    "    description='git_org ',\n",
    "    disabled=False,\n",
    "    style={'description_width': '100px'}    \n",
    ")\n",
    "\n",
    "widget_catalog = widgets.Text(\n",
    "    value='spark_catalog',\n",
    "    placeholder='Type something',\n",
    "    description='catalog:',\n",
    "    disabled=False,\n",
    "    style={'description_width': '100px'}    \n",
    ")\n",
    "\n",
    "widget_schema = widgets.Text(\n",
    "    value='default',\n",
    "    placeholder='Type something',\n",
    "    description='schema:',\n",
    "    disabled=False,\n",
    "    style={'description_width': '100px'}\n",
    ")\n",
    "\n",
    "widget_library_source = widgets.Combobox(\n",
    "    placeholder='Choose source',\n",
    "    options=['pypi', 'git'],\n",
    "    description='library_source:',\n",
    "    ensure_option=True,\n",
    "    value='git',\n",
    "    disabled=False,\n",
    "    style={'description_width': '100px'}\n",
    ")\n",
    "\n",
    "widget_git_branch_or_commit = widgets.Text(\n",
    "    value='main',\n",
    "    placeholder='Type branch name or commit hash',\n",
    "    description='git_branch_or_commit:',\n",
    "    disabled=False,\n",
    "    style={'description_width': '150px'}\n",
    ")\n",
    "\n",
    "widget_override_version = widgets.Checkbox(\n",
    "    value=False,\n",
    "    description='Override SE version',\n",
    "    disabled=False,\n",
    "    style={'description_width': '30px'}\n",
    "    \n",
    ")\n",
    "\n",
    "hbox = widgets.HBox([\n",
    "    widget_user,\n",
    "    widget_catalog, \n",
    "    widget_schema,\n",
    "    widget_override_version, \n",
    "    widget_library_source, \n",
    "    widget_git_org,\n",
    "    widget_git_branch_or_commit\n",
    "])"
   ]
  },
  {
   "cell_type": "code",
   "execution_count": null,
   "id": "dae275a4-0765-4491-98b4-79bf6fcf3e0d",
   "metadata": {},
   "outputs": [],
   "source": [
    "# Display widgets\n",
    "display(hbox)"
   ]
  },
  {
   "cell_type": "code",
   "execution_count": null,
   "id": "602c00f2-b403-481d-a343-fb2e7af13ae1",
   "metadata": {},
   "outputs": [],
   "source": [
    "user = re.sub(r'[^a-zA-Z]', '', widget_user.value).lower()\n",
    "catalog = widget_catalog.value\n",
    "schema = widget_schema.value\n",
    "override_se_version = widget_override_version.value\n",
    "library = widget_library_source.value\n",
    "org = widget_git_org.value\n",
    "branch_or_commit = widget_git_branch_or_commit.value\n",
    "\n",
    "print(user)\n",
    "print(catalog)\n",
    "print(schema)\n",
    "print(override_se_version)\n",
    "print(library)\n",
    "print(org)\n",
    "print(branch_or_commit)"
   ]
  },
  {
   "cell_type": "code",
   "execution_count": null,
   "id": "1c588b5e-28ae-4b09-862a-3598a7dfaf60",
   "metadata": {},
   "outputs": [],
   "source": [
    "CONFIG = {\n",
    "    \"owner\": user,\n",
    "    \"catalog\": catalog,\n",
    "    \"schema\": schema,\n",
    "    \"user\": user,\n",
    "    \"product_id\": f\"se_{user}_product\",\n",
    "    \"in_memory_source\": f\"se_{user}_source\",\n",
    "    \"rules_table\": f\"{catalog}.{schema}.se_{user}_rules\",\n",
    "    \"stats_table\": f\"{catalog}.{schema}.se_{user}_stats\",\n",
    "    \"target_table\": f\"{catalog}.{schema}.se_{user}_target\",\n",
    "    \"override_se_version\" : override_se_version,\n",
    "    \"library\": library,\n",
    "    \"org\": org,\n",
    "    \"branch_or_commit\": branch_or_commit\n",
    "}\n",
    "\n",
    "config_df = pd.DataFrame(list(CONFIG.items()), columns=['Key', 'Value'])\n",
    "display(config_df)"
   ]
  },
  {
   "cell_type": "code",
   "execution_count": null,
   "id": "d1e7b6fd-8763-4a60-9551-1203f172a948",
   "metadata": {},
   "outputs": [],
   "source": [
    "# Display Spark Expectations installed version\n",
    "from importlib.metadata import version\n",
    "print(f\"---- Current SparkExpectation Version: {version('spark-expectations')}\")"
   ]
  },
  {
   "cell_type": "markdown",
   "id": "20c787f8-6383-4286-a47f-559a64bdcafa",
   "metadata": {},
   "source": [
    "### Setting up spark expectations"
   ]
  },
  {
   "cell_type": "code",
   "execution_count": null,
   "id": "ed934e7a-3fb7-480c-a3ab-19177bdafd7e",
   "metadata": {},
   "outputs": [],
   "source": [
    "# CREATE SPARK SESSION AND DATABASE\n",
    "from pyspark.sql import SparkSession\n",
    "\n",
    "# Create or get a Spark session\n",
    "spark = SparkSession.builder \\\n",
    "    .appName(\"Spark Aggregation Rules\") \\\n",
    "    .config(\"spark.sql.extensions\", \"io.delta.sql.DeltaSparkSessionExtension\") \\\n",
    "    .config(\"spark.sql.catalog.spark_catalog\", \"org.apache.spark.sql.delta.catalog.DeltaCatalog\") \\\n",
    "    .config(\"spark.jars.packages\", \"io.delta:delta-spark_2.12:3.0.0\") \\\n",
    "    .getOrCreate()"
   ]
  },
  {
   "cell_type": "code",
   "execution_count": null,
   "id": "691ea44f-590d-4d0e-b985-48bfbe9e0334",
   "metadata": {},
   "outputs": [],
   "source": [
    "databases_df = spark.sql(\"SHOW DATABASES\")\n",
    "databases_df.show(truncate=False)\n",
    "\n",
    "tables_df = spark.sql(\"SHOW TABLES\")\n",
    "tables_df.show(truncate=False)\n"
   ]
  },
  {
   "cell_type": "code",
   "execution_count": null,
   "id": "9ed9a071-1101-49e8-9835-5155f8929ed0",
   "metadata": {},
   "outputs": [],
   "source": [
    "db_name = f\"{CONFIG['catalog']}.{CONFIG['schema']}\"\n",
    "pattern = f\"se_{CONFIG['user']}*\"\n",
    "\n",
    "# Set the current catalog\n",
    "spark.sql(f\"USE {CONFIG['catalog']}\")\n",
    "\n",
    "# Drop tables matching pattern\n",
    "tables_df = spark.sql(f\"SHOW TABLES IN {db_name} LIKE '{pattern}'\")\n",
    "tables_to_drop = [row for row in tables_df.collect() if not row[\"isTemporary\"] ]\n",
    "\n",
    "if tables_to_drop:\n",
    "    print(f\"Found {len(tables_to_drop)} tables to drop.\")\n",
    "    for row in tables_to_drop:\n",
    "        table_name = row[\"tableName\"]\n",
    "        spark.sql(f\"DROP TABLE IF EXISTS {db_name}.{table_name}\")\n",
    "        print(f\"Dropped table: {db_name}.{table_name}\")\n",
    "else:\n",
    "    print(\"----- No tables to drop\")"
   ]
  },
  {
   "cell_type": "code",
   "execution_count": null,
   "id": "dce4f3f9-fda9-40de-ac98-7d8cb9911c72",
   "metadata": {},
   "outputs": [],
   "source": [
    "views_df = spark.sql(f\"SHOW VIEWS in {db_name} LIKE '{pattern}'\")\n",
    "views_to_drop = views_df.collect()\n",
    "\n",
    "if views_to_drop:\n",
    "    print(f\"Found {len(views_to_drop)} views to drop.\")\n",
    "    for row in views_to_drop:\n",
    "        view_name = row[\"viewName\"]\n",
    "        spark.sql(f\"DROP VIEW IF EXISTS {view_name}\")\n",
    "        print(f\"Dropped view: {view_name}\")\n",
    "else:\n",
    "    print(\"----- No views to drop\")"
   ]
  },
  {
   "cell_type": "markdown",
   "id": "40e1f3e7-1e74-499b-82c8-122cc474996c",
   "metadata": {},
   "source": [
    "### Spark expectation execution"
   ]
  },
  {
   "cell_type": "code",
   "execution_count": null,
   "id": "5cb5993f-e517-48d6-b095-9b8fa2a41068",
   "metadata": {},
   "outputs": [],
   "source": [
    "import pandas as pd\n",
    "from pyspark.sql import SparkSession"
   ]
  },
  {
   "cell_type": "code",
   "execution_count": null,
   "id": "78199b83-d418-4ef4-8cce-ca468a7f2edc",
   "metadata": {},
   "outputs": [],
   "source": [
    "rules_data = [\n",
    "    {\n",
    "        \"product_id\": CONFIG[\"product_id\"],\n",
    "        \"table_name\": CONFIG[\"target_table\"],\n",
    "        \"rule_type\": \"agg_dq\",\n",
    "        \"rule\": \"data_existing\",\n",
    "        \"column_name\": \"sales\",\n",
    "        \"expectation\": \"count(*) > 0\",\n",
    "        \"action_if_failed\": \"fail\",\n",
    "        \"tag\": \"completeness\",\n",
    "        \"description\": \"Data should be present\",\n",
    "        \"enable_for_source_dq_validation\": True,\n",
    "        \"enable_for_target_dq_validation\": True,\n",
    "        \"is_active\": True,\n",
    "        \"enable_error_drop_alert\": False,\n",
    "        \"error_drop_threshold\": 0,\n",
    "    },\n",
    "    {\n",
    "        \"product_id\": CONFIG[\"product_id\"],\n",
    "        \"table_name\": CONFIG[\"target_table\"],\n",
    "        \"rule_type\": \"agg_dq\",\n",
    "        \"rule\": \"min_sales\",\n",
    "        \"column_name\": \"sales\",\n",
    "        \"expectation\": \"min(sales)>1000\",\n",
    "        \"action_if_failed\": \"warn\",\n",
    "        \"tag\": \"validity\",\n",
    "        \"description\": \"Minimum sales should be greater than 1000\",\n",
    "        \"enable_for_source_dq_validation\": True,\n",
    "        \"enable_for_target_dq_validation\": True,\n",
    "        \"is_active\": True,\n",
    "        \"enable_error_drop_alert\": False,\n",
    "        \"error_drop_threshold\": 0,\n",
    "    },\n",
    "    {\n",
    "        \"product_id\": CONFIG[\"product_id\"],\n",
    "        \"table_name\": CONFIG[\"target_table\"],\n",
    "        \"rule_type\": \"agg_dq\",\n",
    "        \"rule\": \"no_duplicates\",\n",
    "        \"column_name\": \"id\",\n",
    "        \"expectation\": \"count(distinct id) == count(*)\",\n",
    "        \"action_if_failed\": \"fail\",\n",
    "        \"tag\": \"uniqueness\",\n",
    "        \"description\": \"Each data point should have a unique id\",\n",
    "        \"enable_for_source_dq_validation\": True,\n",
    "        \"enable_for_target_dq_validation\": True,\n",
    "        \"is_active\": True,\n",
    "        \"enable_error_drop_alert\": False,\n",
    "        \"error_drop_threshold\": 0,\n",
    "    }\n",
    "]"
   ]
  },
  {
   "cell_type": "code",
   "execution_count": null,
   "id": "e4f28932-7aa2-4d81-b1c2-e10d5a11913d",
   "metadata": {},
   "outputs": [],
   "source": [
    "rules_df = spark.createDataFrame(pd.DataFrame(rules_data))"
   ]
  },
  {
   "cell_type": "code",
   "execution_count": null,
   "id": "f87db002-0b42-446b-a37d-ff689086ba1f",
   "metadata": {},
   "outputs": [],
   "source": [
    "rules_df.write.format(\"delta\").mode(\"overwrite\").saveAsTable(CONFIG['rules_table'])"
   ]
  },
  {
   "cell_type": "code",
   "execution_count": null,
   "id": "9a303eed-563f-4829-abe0-19441f387752",
   "metadata": {},
   "outputs": [],
   "source": [
    "rules_df.toPandas()"
   ]
  },
  {
   "cell_type": "markdown",
   "id": "4f9da04c-7812-47f3-b532-6f03255f5b82",
   "metadata": {},
   "source": [
    "### Running spark expectations"
   ]
  },
  {
   "cell_type": "code",
   "execution_count": null,
   "id": "b1220bbf-18be-4302-b732-8145cede9d30",
   "metadata": {},
   "outputs": [],
   "source": [
    "from pyspark.sql import DataFrame\n",
    "\n",
    "from spark_expectations.core import load_configurations\n",
    "from spark_expectations.config.user_config import Constants as user_config\n",
    "\n",
    "from spark_expectations.core.expectations import (\n",
    "    SparkExpectations,\n",
    "    WrappedDataFrameWriter,\n",
    ")"
   ]
  },
  {
   "cell_type": "code",
   "execution_count": null,
   "id": "61620ee2-eca8-494e-862e-194f04b81182",
   "metadata": {},
   "outputs": [],
   "source": [
    "writer = WrappedDataFrameWriter().mode(\"overwrite\").format(\"delta\")"
   ]
  },
  {
   "cell_type": "code",
   "execution_count": null,
   "id": "750afb2b-d7df-4ee8-8130-cf284fa24882",
   "metadata": {},
   "outputs": [],
   "source": [
    "load_configurations(spark) "
   ]
  },
  {
   "cell_type": "code",
   "execution_count": null,
   "id": "1968db61-8535-4d27-8afc-76d7addd2825",
   "metadata": {},
   "outputs": [],
   "source": [
    "# Custom config (example enable slack/email notifications)\n",
    "stats_streaming_config_dict = {user_config.se_enable_streaming: False}\n",
    "notification_conf = {}"
   ]
  },
  {
   "cell_type": "code",
   "execution_count": null,
   "id": "06042484-e615-4ea9-9bb4-f111ffff20d6",
   "metadata": {},
   "outputs": [],
   "source": [
    "se = SparkExpectations(\n",
    "    product_id=CONFIG[\"product_id\"],\n",
    "    rules_df=rules_df,\n",
    "    stats_table=CONFIG[\"stats_table\"],\n",
    "    stats_table_writer=writer,\n",
    "    target_and_error_table_writer=writer,\n",
    "    stats_streaming_options=stats_streaming_config_dict,\n",
    ")"
   ]
  },
  {
   "cell_type": "code",
   "execution_count": null,
   "id": "e60a9bdf-a11f-4c8b-ad36-da7581340e17",
   "metadata": {},
   "outputs": [],
   "source": [
    "#  Initialize input data\n",
    "data = [\n",
    "    {\"id\": 1, \"name\": \"Alice\",  \"sales\": 3500},\n",
    "    {\"id\": 2, \"name\": \"Bob\",   \"sales\": 2800},\n",
    "    {\"id\": 3, \"name\": \"Charlie\", \"sales\": 4200},\n",
    "    {\"id\": 4, \"name\": \"Mike\",   \"sales\": 2300},\n",
    "    {\"id\": 5, \"name\": \"Ron\", \"sales\": None},\n",
    "    {\"id\": 6, \"name\": \"Zach\",   \"sales\": 3900},\n",
    "    {\"id\": 7, \"name\": \"Alex\",   \"sales\": 4100},\n",
    "    {\"id\": 8, \"name\": \"Steve\",   \"sales\": 4200},\n",
    "    {\"id\": 9, \"name\": \"James\",   \"sales\": 900},\n",
    "    {\"id\": 10, \"name\": \"Dan\",   \"sales\": 2500},\n",
    "    {\"id\": 4, \"name\": \"Bryan\",   \"sales\": 1600}\n",
    "]\n",
    "input_df = spark.createDataFrame(pd.DataFrame(data))\n",
    "input_df.show(truncate=False)"
   ]
  },
  {
   "cell_type": "code",
   "execution_count": null,
   "id": "2ea47fa0-c409-4971-99bd-32d677dc6281",
   "metadata": {},
   "outputs": [],
   "source": [
    "@se.with_expectations(\n",
    "    target_table=CONFIG[\"target_table\"],\n",
    "    write_to_table=True,\n",
    "    write_to_temp_table=True,\n",
    "    user_conf=notification_conf,\n",
    ")\n",
    "def get_dataset():\n",
    "    _df_source: DataFrame = input_df\n",
    "    _df_source.createOrReplaceTempView(CONFIG[\"in_memory_source\"])\n",
    "    return _df_source"
   ]
  },
  {
   "cell_type": "code",
   "execution_count": null,
   "id": "5e5a769d-d8dd-442f-a28e-b389900dc7fa",
   "metadata": {},
   "outputs": [],
   "source": [
    "get_dataset()"
   ]
  },
  {
   "cell_type": "code",
   "execution_count": null,
   "id": "5e81ce77-679c-4323-9b81-a830d0cfd89c",
   "metadata": {},
   "outputs": [],
   "source": [
    "query_stats_table = f\"SELECT * FROM {CONFIG['stats_table']}\"\n",
    "query_stats_table_df = spark.sql(query_stats_table).toPandas()\n",
    "query_stats_table_df"
   ]
  },
  {
   "cell_type": "code",
   "execution_count": null,
   "id": "dd0c2046-67e4-4ce9-9bc8-32dfd3a4b2bf",
   "metadata": {},
   "outputs": [],
   "source": [
    "# Failure of rules captured here\n",
    "query_stats_table_df.loc[0,'source_agg_dq_results']"
   ]
  },
  {
   "cell_type": "code",
   "execution_count": null,
   "id": "21531b51-efd0-4a35-a800-5792b477ee74",
   "metadata": {},
   "outputs": [],
   "source": [
    "databases_df = spark.sql(\"SHOW DATABASES\")\n",
    "databases_df.show(truncate=False)\n",
    "\n",
    "tables_df = spark.sql(\"SHOW TABLES\")\n",
    "tables_df.show(truncate=False)\n"
   ]
  },
  {
   "cell_type": "code",
   "execution_count": null,
   "id": "fc037873-c946-480a-9db2-38a3d1bdba0b",
   "metadata": {},
   "outputs": [],
   "source": [
    "query_target_table = f\"\"\"\n",
    "SELECT *\n",
    "FROM {CONFIG['target_table']} \n",
    "ORDER BY meta_dq_run_id, id\n",
    "\"\"\"\n",
    "\n",
    "final_data_set_df = spark.sql(query_target_table)\n",
    "\n",
    "if final_data_set_df is not None:\n",
    "    final_data_set_df.show(truncate=False)"
   ]
  },
  {
   "cell_type": "code",
   "execution_count": null,
   "id": "b77e6111-d1d8-48a2-be09-ce5d1c7ebfa8",
   "metadata": {},
   "outputs": [],
   "source": [
    "input_count = spark.sql(f\"SELECT COUNT(*) AS count FROM {CONFIG['in_memory_source']}\").collect()[0]['count']\n",
    "output_count = spark.sql(f\"SELECT COUNT(*) AS count FROM {CONFIG['target_table']}\").collect()[0]['count']\n",
    "\n",
    "# Find missing rows in target_table that are present in in_memory_source\n",
    "removed_rows_df = spark.sql(f\"\"\"\n",
    "SELECT s.*\n",
    "FROM {CONFIG['in_memory_source']} s\n",
    "LEFT ANTI JOIN {CONFIG['target_table']} t\n",
    "ON s.id = t.id\n",
    "\"\"\")\n",
    "\n",
    "removed_rows_count = removed_rows_df.count()\n",
    "\n",
    "comparison_df = spark.createDataFrame(\n",
    "    [\n",
    "        (\"input\", input_count),\n",
    "        (\"output\", output_count),\n",
    "        (\"removed_records\", removed_rows_count)\n",
    "    ],\n",
    "    [\"table\", \"record_count\"]\n",
    ")\n",
    "\n",
    "comparison_df.show()\n",
    "\n",
    "if removed_rows_count > 0:\n",
    "    removed_rows_df.show(truncate=False)"
   ]
  },
  {
   "cell_type": "code",
   "execution_count": null,
   "id": "5913236e-103d-433d-87f5-8590111dc5d9",
   "metadata": {},
   "outputs": [],
   "source": []
  }
 ],
 "metadata": {
  "kernelspec": {
   "display_name": "Python 3 (ipykernel)",
   "language": "python",
   "name": "python3"
  },
  "language_info": {
   "codemirror_mode": {
    "name": "ipython",
    "version": 3
   },
   "file_extension": ".py",
   "mimetype": "text/x-python",
   "name": "python",
   "nbconvert_exporter": "python",
   "pygments_lexer": "ipython3",
   "version": "3.10.12"
  }
 },
 "nbformat": 4,
 "nbformat_minor": 5
}
